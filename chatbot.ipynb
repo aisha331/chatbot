{
 "cells": [
  {
   "cell_type": "markdown",
   "id": "d18bf252",
   "metadata": {},
   "source": [
    "# small smart chatbot\n"
   ]
  },
  {
   "cell_type": "code",
   "execution_count": null,
   "id": "9f114f7d",
   "metadata": {},
   "outputs": [],
   "source": []
  },
  {
   "cell_type": "markdown",
   "id": "c523ab39",
   "metadata": {},
   "source": [
    "#### Import necessary libraries "
   ]
  },
  {
   "cell_type": "code",
   "execution_count": 12,
   "id": "dffd2a08",
   "metadata": {},
   "outputs": [],
   "source": [
    "# libraries \n",
    "from newspaper import Article \n",
    "import random \n",
    "import string \n",
    "import nltk\n",
    "from sklearn.feature_extraction.text import CountVectorizer\n",
    "from sklearn.metrics.pairwise import cosine_similarity\n",
    "import numpy as np\n",
    "import warnings \n",
    "warnings.filterwarnings('ignore')\n",
    "#punkt\" dataset is a pre-trained model for tokenization\n",
    "nltk.download('punkt' , quiet=True"
   ]
  },
  {
   "cell_type": "code",
   "execution_count": 13,
   "id": "1ba8411c",
   "metadata": {},
   "outputs": [],
   "source": [
    "# article i want my chatcot to talk about \n",
    "article = Article('https://www.who.int/news-room/fact-sheets/detail/breast-cancer#:~:text=Breast%20cancer%20is%20a%20disease,the%20body%20and%20become%20fatal.')\n",
    "article.download()\n",
    "article.parse()\n",
    "article.nlp()\n",
    "corpus=article.text"
   ]
  },
  {
   "cell_type": "code",
   "execution_count": 14,
   "id": "655ccc6b",
   "metadata": {},
   "outputs": [
    {
     "name": "stdout",
     "output_type": "stream",
     "text": [
      "Overview\n",
      "\n",
      "Breast cancer is a disease in which abnormal breast cells grow out of control and form tumours. If left unchecked, the tumours can spread throughout the body and become fatal.\n",
      "\n",
      "Breast cancer cells begin inside the milk ducts and/or the milk-producing lobules of the breast. The earliest form (in situ) is not life-threatening. Cancer cells can spread into nearby breast tissue (invasion). This creates tumours that cause lumps or thickening.\n",
      "\n",
      "Invasive cancers can spread to nearby lymph nodes or other organs (metastasize). Metastasis can be fatal.\n",
      "\n",
      "Treatment is based on the person, the type of cancer and its spread. Treatment combines surgery, radiation therapy and medications.\n",
      "\n",
      "Scope of the problem\n",
      "\n",
      "In 2020, there were 2.3 million women diagnosed with breast cancer and 685 000 deaths globally. As of the end of 2020, there were 7.8 million women alive who were diagnosed with breast cancer in the past 5 years, making it the world’s most prevalent cancer. Breast cancer occurs in every country of the world in women at any age after puberty but with increasing rates in later life.\n",
      "\n",
      "\n",
      "\n",
      "Breast cancer mortality changed little from the 1930s through to the 1970s when surgery alone was the primary mode of treatment (radical mastectomy). Improvements in survival began in the 1990s when countries established breast cancer early detection programmes that were linked to comprehensive treatment programs including effective medical therapies.\n",
      "\n",
      "Who is at risk?\n",
      "\n",
      "Female gender is the strongest breast cancer risk factor. Approximately 0.5–1% of breast cancers occur in men. The treatment of breast cancer in men follows the same principles of management as for women.\n",
      "\n",
      "Certain factors increase the risk of breast cancer including increasing age, obesity, harmful use of alcohol, family history of breast cancer, history of radiation exposure, reproductive history (such as age that menstrual periods began and age at first pregnancy), tobacco use and postmenopausal hormone therapy. Approximately half of breast cancers develop in women who have no identifiable breast cancer risk factor other than gender (female) and age (over 40 years).\n",
      "\n",
      "Family history of breast cancer increases the risk of breast cancer, but most women diagnosed with breast cancer do not have a known family history of the disease. Lack of a known family history does not necessarily mean that a woman is at reduced risk.\n",
      "\n",
      "Certain inherited high penetrance gene mutations greatly increase breast cancer risk, the most dominant being mutations in the genes BRCA1, BRCA2 and PALB-2. Women found to have mutations in these major genes may consider risk reduction strategies such as surgical removal of both breasts.\n",
      "\n",
      "Signs and symptoms\n",
      "\n",
      "Breast cancer can have combinations of symptoms, especially when it is more advanced. Most people will not experience any symptoms when the cancer is still early.\n",
      "\n",
      "Symptoms of breast cancer can include:\n",
      "\n",
      "a breast lump or thickening, often without pain\n",
      "\n",
      "change in size, shape or appearance of the breast\n",
      "\n",
      "dimpling, redness, pitting or other changes in the skin\n",
      "\n",
      "change in nipple appearance or the skin surrounding the nipple (areola)\n",
      "\n",
      "abnormal or bloody fluid from the nipple.\n",
      "\n",
      "People with an abnormal breast lump should seek medical care, even if the lump does not hurt.\n",
      "\n",
      "Most breast lumps are not cancer. Breast lumps that are cancerous are more likely to be successfully treated when they are small and have not spread to nearby lymph nodes.\n",
      "\n",
      "Breast cancers may spread to other areas of the body and trigger other symptoms. Often, the most common first detectable site of spread is to the lymph nodes under the arm although it is possible to have cancer-bearing lymph nodes that cannot be felt.\n",
      "\n",
      "Over time, cancerous cells may spread to other organs including the lungs, liver, brain and bones. Once they reach these sites, new cancer-related symptoms such as bone pain or headaches may appear.\n",
      "\n",
      "Treatment\n",
      "\n",
      "Treatment for breast cancer depends on the subtype of cancer and how much it has spread outside of the breast to lymph nodes (stages II or III) or to other parts of the body (stage IV).\n",
      "\n",
      "Doctors combine treatments to minimize the chances of the cancer coming back (recurrence). These include:\n",
      "\n",
      "surgery to remove the breast tumour\n",
      "\n",
      "radiation therapy to reduce recurrence risk in the breast and surrounding tissues\n",
      "\n",
      "medications to kill cancer cells and prevent spread, including hormonal therapies, chemotherapy or targeted biological therapies.\n",
      "\n",
      "Treatments for breast cancer are more effective and are better tolerated when started early and taken to completion.\n",
      "\n",
      "Surgery may remove just the cancerous tissue (called a lumpectomy) or the whole breast (mastectomy). Surgery may also remove lymph nodes to assess the cancer’s ability to spread.\n",
      "\n",
      "Radiation therapy treats residual microscopic cancers left behind in the breast tissue and/or lymph nodes and minimizes the chances of cancer recurring on the chest wall.\n",
      "\n",
      "Advanced cancers can erode through the skin to cause open sores (ulceration) but are not necessarily painful. Women with breast wounds that do not heal should seek medical care to have a biopsy performed.\n",
      "\n",
      "Medicines to treat breast cancers are selected based on the biological properties of the cancer as determined by special tests (tumour marker determination). The great majority of drugs used for breast cancer are already on the WHO Essential Medicines List (EML).\n",
      "\n",
      "Lymph nodes are removed at the time of cancer surgery for invasive cancers. Complete removal of the lymph node bed under the arm (complete axillary dissection) in the past was thought to be necessary to prevent the spread of cancer. A smaller lymph node procedure called “sentinel node biopsy” is now preferred as it has fewer complications.\n",
      "\n",
      "Medical treatments for breast cancers, which may be given before (“neoadjuvant”) or after (“adjuvant”) surgery, is based on the biological subtyping of the cancers. Cancer that express the estrogen receptor (ER) and/or progesterone receptor (PR) are likely to respond to endocrine (hormone) therapies such as tamoxifen or aromatase inhibitors. These medicines are taken orally for 5–10 years and reduce the chance of recurrence of these “hormone-positive” cancers by nearly half. Endocrine therapies can cause symptoms of menopause but are generally well tolerated.\n",
      "\n",
      "Cancers that do not express ER or PR are “hormone receptor negative” and need to be treated with chemotherapy unless the cancer is very small. The chemotherapy regimens available today are very effective in reducing the chances of cancer spread or recurrence and are generally given as outpatient therapy. Chemotherapy for breast cancer generally does not require hospital admission in the absence of complications.\n",
      "\n",
      "Breast cancers may independently overexpress a molecule called the HER-2/neu oncogene. These “HER-2 positive” cancers are amenable to treatment with targeted biological agents such as trastuzumab. These biological agents are very effective but also very expensive, because they are antibodies rather than chemicals. When targeted biological therapies are given, they are combined with chemotherapy to make them effective at killing cancer cells.\n",
      "\n",
      "Radiotherapy plays a very important role in treating breast cancer. With early-stage breast cancers, radiation can prevent a woman having to undergo a mastectomy. With later stage cancers, radiotherapy can reduce cancer recurrence risk even when a mastectomy has been performed. For advanced stage of breast cancer, in some circumstances, radiation therapy may reduce the likelihood of dying of the disease.\n",
      "\n",
      "The effectiveness of breast cancer therapies depends on the full course of treatment. Partial treatment is less likely to lead to a positive outcome.\n",
      "\n",
      "Global impact\n",
      "\n",
      "Age-standardized breast cancer mortality in high-income countries dropped by 40% between the 1980s and 2020. Countries that have succeeded in reducing breast cancer mortality have been able to achieve an annual breast cancer mortality reduction of 2–4% per year.\n",
      "\n",
      "The strategies for improving breast cancer outcomes depend on fundamental health system strengthening to deliver the treatments that are already known to work. These are also important for the management of other cancers and other non-malignant noncommunicable diseases (NCDs). For example, having reliable referral pathways from primary care facilities to district hospitals to dedicated cancer centres.\n",
      "\n",
      "The establishment of reliable referral pathways from primary care facilities to district hospitals to dedicated cancer centres is the same approach as is required for the management of cervical cancer, lung cancer, colorectal cancer and prostate cancer. To that end, breast cancer is an “index” disease whereby pathways are created that can be followed for the management of other diseases.\n",
      "\n",
      "WHO response\n",
      "\n",
      "The objective of the WHO Global Breast Cancer Initiative (GBCI) is to reduce global breast cancer mortality by 2.5% per year, thereby averting 2.5 million breast cancer deaths globally between 2020 and 2040. Reducing global breast cancer mortality by 2.5% per year would avert 25% of breast cancer deaths by 2030 and 40% by 2040 among women under 70 years of age. The three pillars toward achieving these objectives are: health promotion for early detection; timely diagnosis; and comprehensive breast cancer management.\n",
      "\n",
      "By providing public health education to improve awareness among women of the signs and symptoms of breast cancer and, together with their families, understand the importance of early detection and treatment, more women would consult medical practitioners when breast cancer is first suspected, and before any cancer present is advanced. This is possible even in the absence of mammographic screening that is impractical in many countries at the present time.\n",
      "\n",
      "\n",
      "\n",
      "Public education needs to be combined with health worker education about the signs and symptoms of early breast cancer so that women are referred to diagnostic services when appropriate.\n",
      "\n",
      "\n",
      "\n",
      "Rapid diagnosis needs to be linked to effective cancer treatment that in many settings requires some level of specialized cancer care. By establishing centralized services in a cancer facility or hospital, using breast cancer as a model, treatment for breast cancer may be optimized while improving management of other cancers.\n",
      "\n",
      "_________________________________\n",
      "\n",
      "1. Age-standardization is a technique used to allow populations to be compared when the age profiles of the populations are quite different.\n",
      "\n",
      "\n"
     ]
    }
   ],
   "source": [
    "# print data of article \n",
    "print(corpus)"
   ]
  },
  {
   "cell_type": "markdown",
   "id": "82100d52",
   "metadata": {},
   "source": [
    "### Function Definitions:"
   ]
  },
  {
   "cell_type": "code",
   "execution_count": 15,
   "id": "afa041ad",
   "metadata": {},
   "outputs": [],
   "source": [
    "text = corpus\n",
    "sentence_list = nltk.sent_tokenize(text)"
   ]
  },
  {
   "cell_type": "code",
   "execution_count": 16,
   "id": "8d24ecc8",
   "metadata": {},
   "outputs": [
    {
     "name": "stdout",
     "output_type": "stream",
     "text": [
      "['Overview\\n\\nBreast cancer is a disease in which abnormal breast cells grow out of control and form tumours.', 'If left unchecked, the tumours can spread throughout the body and become fatal.', 'Breast cancer cells begin inside the milk ducts and/or the milk-producing lobules of the breast.', 'The earliest form (in situ) is not life-threatening.', 'Cancer cells can spread into nearby breast tissue (invasion).', 'This creates tumours that cause lumps or thickening.', 'Invasive cancers can spread to nearby lymph nodes or other organs (metastasize).', 'Metastasis can be fatal.', 'Treatment is based on the person, the type of cancer and its spread.', 'Treatment combines surgery, radiation therapy and medications.', 'Scope of the problem\\n\\nIn 2020, there were 2.3 million women diagnosed with breast cancer and 685 000 deaths globally.', 'As of the end of 2020, there were 7.8 million women alive who were diagnosed with breast cancer in the past 5 years, making it the world’s most prevalent cancer.', 'Breast cancer occurs in every country of the world in women at any age after puberty but with increasing rates in later life.', 'Breast cancer mortality changed little from the 1930s through to the 1970s when surgery alone was the primary mode of treatment (radical mastectomy).', 'Improvements in survival began in the 1990s when countries established breast cancer early detection programmes that were linked to comprehensive treatment programs including effective medical therapies.', 'Who is at risk?', 'Female gender is the strongest breast cancer risk factor.', 'Approximately 0.5–1% of breast cancers occur in men.', 'The treatment of breast cancer in men follows the same principles of management as for women.', 'Certain factors increase the risk of breast cancer including increasing age, obesity, harmful use of alcohol, family history of breast cancer, history of radiation exposure, reproductive history (such as age that menstrual periods began and age at first pregnancy), tobacco use and postmenopausal hormone therapy.', 'Approximately half of breast cancers develop in women who have no identifiable breast cancer risk factor other than gender (female) and age (over 40 years).', 'Family history of breast cancer increases the risk of breast cancer, but most women diagnosed with breast cancer do not have a known family history of the disease.', 'Lack of a known family history does not necessarily mean that a woman is at reduced risk.', 'Certain inherited high penetrance gene mutations greatly increase breast cancer risk, the most dominant being mutations in the genes BRCA1, BRCA2 and PALB-2.', 'Women found to have mutations in these major genes may consider risk reduction strategies such as surgical removal of both breasts.', 'Signs and symptoms\\n\\nBreast cancer can have combinations of symptoms, especially when it is more advanced.', 'Most people will not experience any symptoms when the cancer is still early.', 'Symptoms of breast cancer can include:\\n\\na breast lump or thickening, often without pain\\n\\nchange in size, shape or appearance of the breast\\n\\ndimpling, redness, pitting or other changes in the skin\\n\\nchange in nipple appearance or the skin surrounding the nipple (areola)\\n\\nabnormal or bloody fluid from the nipple.', 'People with an abnormal breast lump should seek medical care, even if the lump does not hurt.', 'Most breast lumps are not cancer.', 'Breast lumps that are cancerous are more likely to be successfully treated when they are small and have not spread to nearby lymph nodes.', 'Breast cancers may spread to other areas of the body and trigger other symptoms.', 'Often, the most common first detectable site of spread is to the lymph nodes under the arm although it is possible to have cancer-bearing lymph nodes that cannot be felt.', 'Over time, cancerous cells may spread to other organs including the lungs, liver, brain and bones.', 'Once they reach these sites, new cancer-related symptoms such as bone pain or headaches may appear.', 'Treatment\\n\\nTreatment for breast cancer depends on the subtype of cancer and how much it has spread outside of the breast to lymph nodes (stages II or III) or to other parts of the body (stage IV).', 'Doctors combine treatments to minimize the chances of the cancer coming back (recurrence).', 'These include:\\n\\nsurgery to remove the breast tumour\\n\\nradiation therapy to reduce recurrence risk in the breast and surrounding tissues\\n\\nmedications to kill cancer cells and prevent spread, including hormonal therapies, chemotherapy or targeted biological therapies.', 'Treatments for breast cancer are more effective and are better tolerated when started early and taken to completion.', 'Surgery may remove just the cancerous tissue (called a lumpectomy) or the whole breast (mastectomy).', 'Surgery may also remove lymph nodes to assess the cancer’s ability to spread.', 'Radiation therapy treats residual microscopic cancers left behind in the breast tissue and/or lymph nodes and minimizes the chances of cancer recurring on the chest wall.', 'Advanced cancers can erode through the skin to cause open sores (ulceration) but are not necessarily painful.', 'Women with breast wounds that do not heal should seek medical care to have a biopsy performed.', 'Medicines to treat breast cancers are selected based on the biological properties of the cancer as determined by special tests (tumour marker determination).', 'The great majority of drugs used for breast cancer are already on the WHO Essential Medicines List (EML).', 'Lymph nodes are removed at the time of cancer surgery for invasive cancers.', 'Complete removal of the lymph node bed under the arm (complete axillary dissection) in the past was thought to be necessary to prevent the spread of cancer.', 'A smaller lymph node procedure called “sentinel node biopsy” is now preferred as it has fewer complications.', 'Medical treatments for breast cancers, which may be given before (“neoadjuvant”) or after (“adjuvant”) surgery, is based on the biological subtyping of the cancers.', 'Cancer that express the estrogen receptor (ER) and/or progesterone receptor (PR) are likely to respond to endocrine (hormone) therapies such as tamoxifen or aromatase inhibitors.', 'These medicines are taken orally for 5–10 years and reduce the chance of recurrence of these “hormone-positive” cancers by nearly half.', 'Endocrine therapies can cause symptoms of menopause but are generally well tolerated.', 'Cancers that do not express ER or PR are “hormone receptor negative” and need to be treated with chemotherapy unless the cancer is very small.', 'The chemotherapy regimens available today are very effective in reducing the chances of cancer spread or recurrence and are generally given as outpatient therapy.', 'Chemotherapy for breast cancer generally does not require hospital admission in the absence of complications.', 'Breast cancers may independently overexpress a molecule called the HER-2/neu oncogene.', 'These “HER-2 positive” cancers are amenable to treatment with targeted biological agents such as trastuzumab.', 'These biological agents are very effective but also very expensive, because they are antibodies rather than chemicals.', 'When targeted biological therapies are given, they are combined with chemotherapy to make them effective at killing cancer cells.', 'Radiotherapy plays a very important role in treating breast cancer.', 'With early-stage breast cancers, radiation can prevent a woman having to undergo a mastectomy.', 'With later stage cancers, radiotherapy can reduce cancer recurrence risk even when a mastectomy has been performed.', 'For advanced stage of breast cancer, in some circumstances, radiation therapy may reduce the likelihood of dying of the disease.', 'The effectiveness of breast cancer therapies depends on the full course of treatment.', 'Partial treatment is less likely to lead to a positive outcome.', 'Global impact\\n\\nAge-standardized breast cancer mortality in high-income countries dropped by 40% between the 1980s and 2020.', 'Countries that have succeeded in reducing breast cancer mortality have been able to achieve an annual breast cancer mortality reduction of 2–4% per year.', 'The strategies for improving breast cancer outcomes depend on fundamental health system strengthening to deliver the treatments that are already known to work.', 'These are also important for the management of other cancers and other non-malignant noncommunicable diseases (NCDs).', 'For example, having reliable referral pathways from primary care facilities to district hospitals to dedicated cancer centres.', 'The establishment of reliable referral pathways from primary care facilities to district hospitals to dedicated cancer centres is the same approach as is required for the management of cervical cancer, lung cancer, colorectal cancer and prostate cancer.', 'To that end, breast cancer is an “index” disease whereby pathways are created that can be followed for the management of other diseases.', 'WHO response\\n\\nThe objective of the WHO Global Breast Cancer Initiative (GBCI) is to reduce global breast cancer mortality by 2.5% per year, thereby averting 2.5 million breast cancer deaths globally between 2020 and 2040.', 'Reducing global breast cancer mortality by 2.5% per year would avert 25% of breast cancer deaths by 2030 and 40% by 2040 among women under 70 years of age.', 'The three pillars toward achieving these objectives are: health promotion for early detection; timely diagnosis; and comprehensive breast cancer management.', 'By providing public health education to improve awareness among women of the signs and symptoms of breast cancer and, together with their families, understand the importance of early detection and treatment, more women would consult medical practitioners when breast cancer is first suspected, and before any cancer present is advanced.', 'This is possible even in the absence of mammographic screening that is impractical in many countries at the present time.', 'Public education needs to be combined with health worker education about the signs and symptoms of early breast cancer so that women are referred to diagnostic services when appropriate.', 'Rapid diagnosis needs to be linked to effective cancer treatment that in many settings requires some level of specialized cancer care.', 'By establishing centralized services in a cancer facility or hospital, using breast cancer as a model, treatment for breast cancer may be optimized while improving management of other cancers.', '_________________________________\\n\\n1.', 'Age-standardization is a technique used to allow populations to be compared when the age profiles of the populations are quite different.']\n"
     ]
    }
   ],
   "source": [
    "print(sentence_list)"
   ]
  },
  {
   "cell_type": "code",
   "execution_count": 18,
   "id": "58bce13f",
   "metadata": {},
   "outputs": [],
   "source": [
    "# A function to return a random greeting response to a user's greeting\n",
    "def greeting_response(text):\n",
    "    text = text.lower()\n",
    "    bot_greetings = ['howdy', 'hi', 'hey', 'hello', 'hola']\n",
    "    user_greetings = ['hi', 'hey', 'hello', 'hola', 'greetings']\n",
    "    for word in text.split():  \n",
    "        if word in user_greetings:\n",
    "            return random.choice(bot_greetings)\n",
    "\n"
   ]
  },
  {
   "cell_type": "code",
   "execution_count": 19,
   "id": "f3e5ccba",
   "metadata": {},
   "outputs": [],
   "source": [
    "# Create the bot's response\n",
    "def bot_response(user_input):\n",
    "    user_input = user_input.lower()\n",
    "    sentence_list.append(user_input)\n",
    "    bot_response = ''\n",
    "    \n",
    "    # frequency of words in each sentence.\n",
    "    cm = CountVectorizer().fit_transform(sentence_list)\n",
    "    similarity_scores = cosine_similarity(cm[-1], cm)\n",
    "    \n",
    "    similarity_scores_list = similarity_scores.flatten()\n",
    "    \n",
    "    index = index_sort(similarity_scores_list)\n",
    "    index = index[1:]\n",
    "    \n",
    "    # Return bot's response based on the most similar input\n",
    "    response_flag = 0\n",
    "    j = 0\n",
    "    for i in range(len(index)):\n",
    "        if similarity_scores_list[index[i]] > 0.0:\n",
    "            bot_response = bot_response+' '+sentence_list[index[i]]\n",
    "            response_flag = 1\n",
    "            j = j+1\n",
    "        if j > 2:\n",
    "            break\n",
    "            \n",
    "    if response_flag == 0:\n",
    "        bot_response = bot_response+' '+\" apologize, but I don't understand.\"\n",
    "        \n",
    "    sentence_list.remove(user_input)\n",
    "    \n",
    "    return bot_response\n",
    "\n",
    "\n"
   ]
  },
  {
   "cell_type": "code",
   "execution_count": 20,
   "id": "8fefeee0",
   "metadata": {},
   "outputs": [],
   "source": [
    "# Sorting \n",
    "def index_sort(list_var):\n",
    "    length = len(list_var)\n",
    "    list_index = list(range(0, length))\n",
    "    x = list_var\n",
    "    for i in range(length):\n",
    "        for j in range(length):\n",
    "            if list_var[list_index[i]] > x[list_index[j]]:\n",
    "                # Swap\n",
    "                temp = list_index[i]\n",
    "                list_index[i] = list_index[j]\n",
    "                list_index[j] = temp\n",
    "    return list_index"
   ]
  },
  {
   "cell_type": "markdown",
   "id": "6109e27a",
   "metadata": {},
   "source": [
    "### Main Program\n"
   ]
  },
  {
   "cell_type": "code",
   "execution_count": 22,
   "id": "3a146b99",
   "metadata": {},
   "outputs": [
    {
     "name": "stdout",
     "output_type": "stream",
     "text": [
      "Doctor: Hello! I am Doctor Bot. What can I help you with today?\n",
      "Your Name: ash\n",
      "Doctor: Hi ash! Feel free to ask me about breast cancer or type \"exit\" to end the conversation.\n",
      "you : cancer\n",
      "Doc Bot:  The establishment of reliable referral pathways from primary care facilities to district hospitals to dedicated cancer centres is the same approach as is required for the management of cervical cancer, lung cancer, colorectal cancer and prostate cancer. By establishing centralized services in a cancer facility or hospital, using breast cancer as a model, treatment for breast cancer may be optimized while improving management of other cancers. Family history of breast cancer increases the risk of breast cancer, but most women diagnosed with breast cancer do not have a known family history of the disease.\n",
      "you : dfgbhnjm\n",
      "Doc Bot:   apologize, but I don't understand.\n",
      "you : rcfhnewl\n",
      "Doc Bot:   apologize, but I don't understand.\n",
      "you : good\n",
      "Doc Bot:   apologize, but I don't understand.\n",
      "you : what is symptoms \n",
      "Doc Bot:  Signs and symptoms\n",
      "\n",
      "Breast cancer can have combinations of symptoms, especially when it is more advanced. Most people will not experience any symptoms when the cancer is still early. Who is at risk?\n",
      "you : thanks\n",
      "Doc Bot:   apologize, but I don't understand.\n",
      "you : bye\n",
      "Doctor: Chat with you later!\n"
     ]
    }
   ],
   "source": [
    "print('Doctor: Hello! I am Doctor Bot. What can I help you with today?')\n",
    "user_name = input('Your Name: ')\n",
    "print(f'Doctor: Hi {user_name}! Feel free to ask me about breast cancer or type \"exit\" to end the conversation.')\n",
    "\n",
    "exit_list = ['exit', 'see you', 'bye', 'quit', 'break' , 'thanks' , 'bye']\n",
    "\n",
    "while(True):\n",
    "    user_input = input('you : ')\n",
    "    if user_input.lower() in exit_list:\n",
    "        print('Doctor: Chat with you later!')\n",
    "        break\n",
    "    else:\n",
    "        if greeting_response (user_input) != None:\n",
    "            print('Doctor : ' + greeting_response(user_input))\n",
    "        else:\n",
    "            print('Doc Bot: ' +bot_response (user_input) )"
   ]
  },
  {
   "cell_type": "code",
   "execution_count": null,
   "id": "972ca5b3",
   "metadata": {},
   "outputs": [],
   "source": []
  },
  {
   "cell_type": "code",
   "execution_count": null,
   "id": "e7db60ba",
   "metadata": {},
   "outputs": [],
   "source": []
  },
  {
   "cell_type": "code",
   "execution_count": null,
   "id": "e0d03ab9",
   "metadata": {},
   "outputs": [],
   "source": []
  },
  {
   "cell_type": "code",
   "execution_count": null,
   "id": "63392721",
   "metadata": {},
   "outputs": [],
   "source": []
  },
  {
   "cell_type": "code",
   "execution_count": null,
   "id": "bb9fceee",
   "metadata": {},
   "outputs": [],
   "source": []
  },
  {
   "cell_type": "code",
   "execution_count": null,
   "id": "769deeaa",
   "metadata": {},
   "outputs": [],
   "source": []
  },
  {
   "cell_type": "code",
   "execution_count": null,
   "id": "dc4b35de",
   "metadata": {},
   "outputs": [],
   "source": []
  },
  {
   "cell_type": "code",
   "execution_count": null,
   "id": "d3483124",
   "metadata": {},
   "outputs": [],
   "source": []
  },
  {
   "cell_type": "code",
   "execution_count": null,
   "id": "09019508",
   "metadata": {},
   "outputs": [],
   "source": []
  }
 ],
 "metadata": {
  "kernelspec": {
   "display_name": "Python 3 (ipykernel)",
   "language": "python",
   "name": "python3"
  },
  "language_info": {
   "codemirror_mode": {
    "name": "ipython",
    "version": 3
   },
   "file_extension": ".py",
   "mimetype": "text/x-python",
   "name": "python",
   "nbconvert_exporter": "python",
   "pygments_lexer": "ipython3",
   "version": "3.9.7"
  }
 },
 "nbformat": 4,
 "nbformat_minor": 5
}
